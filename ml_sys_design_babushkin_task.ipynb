{
 "cells": [
  {
   "cell_type": "markdown",
   "source": [
    "Постановка задачи\n",
    "\n",
    "В этой же папке на диске лежит файл dataset.csv\n",
    "\n",
    "Ваша задача провести анализ данных, построить и оценить модель классификации. Выбор метрик и моделей за вами. Решение должно быть загружено в формате .ipynb или .html\n",
    "\n",
    "Оценка работ будет производиться по следующим критериям: \n",
    "\n",
    "- Качественный EDA\n",
    "- Корректные и обоснованные трансформации данных\n",
    "- Корректное и обоснованное обучение и оценка модели\n",
    "- Качество кода и чистота jupyter notebook\n",
    "\n",
    "\n",
    "Описание данных\n",
    "\n",
    "Это набор данных HR. Задача состоит в том, чтобы проверить, получил ли сотрудник повышение или нет.\n",
    "Названия колонок:\n",
    "\t•\temployee_id\n",
    "\t•\tdepartment\n",
    "\t•\tregion\n",
    "\t•\teducation\n",
    "\t•\tgender\n",
    "\t•\trecruitment_channel\n",
    "\t•\tnooftrainings\n",
    "\t•\tage\n",
    "\t•\tpreviousyearrating\n",
    "\t•\tlengthofservice\n",
    "\t•\tKPIs_met >80%\n",
    "\t•\tawards_won?\n",
    "\t•\tavgtrainingscore\n",
    "\t•\tis_promoted\n",
    "\n",
    "Если по названию колонки все еще не понятно, что в ней содержится, мы ожидаем, что вы сделаете свои предположения на основе анализа данных\n"
   ],
   "metadata": {
    "collapsed": false
   },
   "id": "3bcbb765ceb2a86f"
  },
  {
   "cell_type": "code",
   "execution_count": null,
   "id": "initial_id",
   "metadata": {
    "collapsed": true
   },
   "outputs": [],
   "source": [
    "import warnings\n",
    "import os\n",
    "import os.path as osp\n",
    "import pandas as pd\n",
    "import matplotlib.pyplot as plt\n",
    "import seaborn as sns\n",
    "\n",
    "sns.set(style=\"whitegrid\")\n",
    "warnings.filterwarnings(\"ignore\")\n"
   ]
  },
  {
   "cell_type": "code",
   "outputs": [],
   "source": [
    "df = pd.read_csv(\"dataset.csv\")\n",
    "df"
   ],
   "metadata": {
    "collapsed": false
   },
   "id": "326209db06a7d49f",
   "execution_count": null
  },
  {
   "cell_type": "code",
   "outputs": [],
   "source": [
    "df.head()"
   ],
   "metadata": {
    "collapsed": false
   },
   "id": "b296005b72c0a95c",
   "execution_count": null
  },
  {
   "cell_type": "code",
   "outputs": [],
   "source": [
    "df.describe(include='all')"
   ],
   "metadata": {
    "collapsed": false
   },
   "id": "3944f5125309c349",
   "execution_count": null
  },
  {
   "cell_type": "code",
   "outputs": [],
   "source": [
    "df.describe()"
   ],
   "metadata": {
    "collapsed": false
   },
   "id": "cc2486a6bc1da35a",
   "execution_count": null
  },
  {
   "cell_type": "code",
   "outputs": [],
   "source": [
    "df.info()"
   ],
   "metadata": {
    "collapsed": false
   },
   "id": "ba2de5fe9b171642",
   "execution_count": null
  },
  {
   "cell_type": "code",
   "outputs": [],
   "source": [
    "missing_values = df.isnull().sum()\n",
    "\n",
    "data_types = df.dtypes"
   ],
   "metadata": {
    "collapsed": false
   },
   "id": "aa0e7d6d5ead68e3",
   "execution_count": null
  },
  {
   "cell_type": "code",
   "outputs": [],
   "source": [
    "miss_v_df = pd.DataFrame(zip(*[missing_values.index, missing_values.values, data_types.values]),\n",
    "                         columns=[\"columns_name\", \"missing_values\", \"data_types\"])\n",
    "miss_v_df"
   ],
   "metadata": {
    "collapsed": false
   },
   "id": "55f13426bf8863a3",
   "execution_count": null
  },
  {
   "cell_type": "markdown",
   "source": [
    "`is_promoted` <- Наш таргет."
   ],
   "metadata": {
    "collapsed": false
   },
   "id": "12f40be0e37f03c5"
  },
  {
   "cell_type": "code",
   "outputs": [],
   "source": [
    "all_columns = [\"department\", \"region\", \"education\", \"gender\", \"recruitment_channel\", \"no_of_trainings\", \"age\",\n",
    "               \"previous_year_rating\", \"length_of_service\", \"KPIs_met >80%\", \"awards_won?\", \"avg_training_score\",\n",
    "               \"is_promoted\"]"
   ],
   "metadata": {
    "collapsed": false
   },
   "id": "d1601725312091f0",
   "execution_count": null
  },
  {
   "cell_type": "code",
   "outputs": [],
   "source": [
    "figsize = (14, 18)\n",
    "plt.figure(figsize=figsize)\n",
    "\n",
    "for i, column in enumerate(all_columns, 1):\n",
    "    plt.subplot(5, 3, i)\n",
    "    sns.countplot(data=df, x=column, palette='Set2')\n",
    "    plt.title(f'Distribution of {column}')\n",
    "    plt.xticks(rotation=90)\n",
    "\n",
    "plt.tight_layout()\n",
    "plt.show()"
   ],
   "metadata": {
    "collapsed": false
   },
   "id": "ab85a38d7d810644",
   "execution_count": null
  },
  {
   "cell_type": "code",
   "outputs": [],
   "source": [
    "plt.figure(figsize=figsize)\n",
    "\n",
    "for i, column in enumerate(all_columns, 1):\n",
    "    plt.subplot(5, 3, i)\n",
    "    if df[column].dtype == 'object':\n",
    "        sns.countplot(data=df, x=column, palette='Set2')\n",
    "        plt.xticks(rotation=90)\n",
    "    else:\n",
    "        sns.histplot(df[column], kde=True, palette='Set2')\n",
    "    plt.title(f'Distribution of {column}')\n",
    "\n",
    "plt.tight_layout()\n",
    "plt.show()\n"
   ],
   "metadata": {
    "collapsed": false
   },
   "id": "2e2c591941f56198",
   "execution_count": null
  },
  {
   "cell_type": "code",
   "outputs": [],
   "source": [
    "numerical_features = ['age', 'length_of_service', 'avg_training_score']\n",
    "categorical_features = ['awards_won?', 'KPIs_met >80%', 'department', 'region', 'education', 'gender',\n",
    "                        'previous_year_rating', 'no_of_trainings', 'recruitment_channel']"
   ],
   "metadata": {
    "collapsed": false
   },
   "id": "ae378884acaef74a",
   "execution_count": null
  },
  {
   "cell_type": "markdown",
   "source": [
    "Давайте посмотрим чем можно заполнить пропуски"
   ],
   "metadata": {
    "collapsed": false
   },
   "id": "42631fbe72a400c9"
  },
  {
   "cell_type": "code",
   "outputs": [],
   "source": [
    "education_counts = df['education'].value_counts()\n",
    "education_mode = education_counts.idxmax()\n",
    "education_mode"
   ],
   "metadata": {
    "collapsed": false
   },
   "id": "6aadc6120fce0ccd",
   "execution_count": null
  },
  {
   "cell_type": "code",
   "outputs": [],
   "source": [
    "previous_year_rating_mean = df['previous_year_rating'].mean()\n",
    "previous_year_rating_median = df['previous_year_rating'].median()\n",
    "previous_year_rating_mode = df['previous_year_rating'].mode()[0]\n",
    "\n",
    "plt.figure(figsize=(25, 7))\n",
    "plt.subplot(1, 2, 2)\n",
    "sns.histplot(df['previous_year_rating'], kde=True, palette='Set2')\n",
    "plt.axvline(previous_year_rating_mean, color='g', linestyle='--', label=f'Mean: {previous_year_rating_mean:.2f}')\n",
    "plt.axvline(previous_year_rating_median, color='b', linestyle='--', label=f'Median: {previous_year_rating_median}')\n",
    "plt.axvline(previous_year_rating_mode, color='r', linestyle='--', label=f'Mode: {previous_year_rating_mode}')\n",
    "plt.title('Distribution of Previous Year Rating')\n",
    "plt.legend()\n",
    "\n",
    "plt.tight_layout()\n",
    "plt.show()\n"
   ],
   "metadata": {
    "collapsed": false
   },
   "id": "1b3d4ad28d96ce30",
   "execution_count": null
  },
  {
   "cell_type": "code",
   "outputs": [],
   "source": [
    "df['education'].fillna('Bachelor\\'s', inplace=True)\n",
    "df['previous_year_rating'].fillna(3.0, inplace=True)"
   ],
   "metadata": {
    "collapsed": false
   },
   "id": "660969061a7e5fe5",
   "execution_count": null
  },
  {
   "cell_type": "code",
   "outputs": [],
   "source": [
    "missing_values = df.isnull().sum()\n",
    "\n",
    "data_types = df.dtypes\n",
    "\n",
    "miss_v_df = pd.DataFrame(zip(*[missing_values.index, missing_values.values, data_types.values]),\n",
    "                         columns=[\"columns_name\", \"missing_values\", \"data_types\"])\n",
    "miss_v_df"
   ],
   "metadata": {
    "collapsed": false
   },
   "id": "eb8d9251ef83a4eb",
   "execution_count": null
  },
  {
   "cell_type": "code",
   "outputs": [],
   "source": [
    "previous_year_rating_mean = df['previous_year_rating'].mean()\n",
    "previous_year_rating_median = df['previous_year_rating'].median()\n",
    "previous_year_rating_mode = df['previous_year_rating'].mode()[0]\n",
    "\n",
    "plt.figure(figsize=(25, 7))\n",
    "plt.subplot(1, 2, 2)\n",
    "sns.histplot(df['previous_year_rating'], kde=True, palette='Set2')\n",
    "plt.axvline(previous_year_rating_mean, color='g', linestyle='--', label=f'Mean: {previous_year_rating_mean:.2f}')\n",
    "plt.axvline(previous_year_rating_median, color='b', linestyle='--', label=f'Median: {previous_year_rating_median}')\n",
    "plt.axvline(previous_year_rating_mode, color='r', linestyle='--', label=f'Mode: {previous_year_rating_mode}')\n",
    "plt.title('Distribution of Previous Year Rating')\n",
    "plt.legend()\n",
    "\n",
    "plt.tight_layout()\n",
    "plt.show()"
   ],
   "metadata": {
    "collapsed": false
   },
   "id": "ddf408d157e820cc",
   "execution_count": null
  },
  {
   "cell_type": "code",
   "outputs": [],
   "source": [
    "correlation_matrix = df[numerical_features].corr()\n",
    "\n",
    "plt.figure(figsize=(10, 8))\n",
    "sns.heatmap(correlation_matrix, annot=True, cmap='coolwarm')\n",
    "plt.title('Correlation Matrix of Numerical Features')\n",
    "plt.show()"
   ],
   "metadata": {
    "collapsed": false
   },
   "id": "28623400951187a",
   "execution_count": null
  },
  {
   "cell_type": "markdown",
   "source": [
    "Существует умеренная положительная корреляция (0,66) между возрастом и продолжительностью трудового стажа, что ожидаемо, поскольку пожилые сотрудники, как правило, имеют более длительный стаж работы"
   ],
   "metadata": {
    "collapsed": false
   },
   "id": "bfe39c10f4851b38"
  },
  {
   "cell_type": "markdown",
   "source": [
    "Показатель `avg_training_score` показывает очень слабую корреляцию как с возрастом (-0,048), так и с продолжительностью трудового стажа (-0,038), что указывает на то, что показатели обучения относительно независимы от возраста или стажа сотрудника."
   ],
   "metadata": {
    "collapsed": false
   },
   "id": "40f3b547ca6549ed"
  },
  {
   "cell_type": "code",
   "outputs": [],
   "source": [
    "plt.figure(figsize=(15, 8))\n",
    "\n",
    "\n",
    "def plot_promote_rate(df, column):\n",
    "    sns.countplot(data=df, x=column, hue='is_promoted', palette='Set2')\n",
    "    plt.title(f'Relationship between {column} and Promotion')\n",
    "    plt.xticks(rotation=90)\n",
    "\n",
    "    # Calculate and add ratios\n",
    "    uniq_values_of_column = df[column].unique()\n",
    "    for uniq_value_of_column in uniq_values_of_column:\n",
    "        count_promoted = df[(df[column] == uniq_value_of_column) & (df[\"is_promoted\"] == 1)].shape[0]\n",
    "        count_not_promoted = df[(df[column] == uniq_value_of_column) & (df[\"is_promoted\"] == 0)].shape[0]\n",
    "        ratio = count_promoted / (count_not_promoted + count_promoted)\n",
    "        plt.text(uniq_value_of_column, count_promoted, f'{ratio:.2f}', ha='center', va='bottom')\n",
    "\n",
    "\n",
    "plot_promote_rate(df, column=\"region\")\n",
    "plt.tight_layout()\n",
    "plt.show()\n",
    "\n",
    "plt.figure(figsize=(22, 18))\n",
    "\n",
    "categorical_features_except_region = [c for c in categorical_features if c != \"region\"]\n",
    "\n",
    "for i, column in enumerate(categorical_features_except_region, 1):\n",
    "    plt.subplot(4, 2, i)\n",
    "    plot_promote_rate(df, column)\n",
    "\n",
    "plt.tight_layout()\n",
    "plt.show()\n"
   ],
   "metadata": {
    "collapsed": false
   },
   "id": "e33d57fe598d584d",
   "execution_count": null
  },
  {
   "cell_type": "markdown",
   "source": [
    "### Анализ взаимосвязей между категориальными признаками и статусом повышения\n",
    "\n",
    "1. **Награды**:\n",
    "   - Сотрудники, получившие награды, имеют значительно более высокий процент повышения (44%) по сравнению с теми, кто не получал награды (8%).\n",
    "\n",
    "2. **KPIs выполнены >80%**:\n",
    "   - Сотрудники, выполнившие более 80% своих KPIs, имеют более высокий процент повышения (17%) по сравнению с теми, кто этого не сделал (4%).\n",
    "\n",
    "3. **Отдел**:\n",
    "   - Наибольший процент повышений наблюдается в отделах `Технологии` (11%) и `Аналитика` (10%), в то время как в других отделах процент повышений колеблется от 5% до 10%.\n",
    "\n",
    "4. **Регион**:\n",
    "   - Повышения распределены по всем регионам, с процентом повышения, варьирующимся от 2% до 14%. Наибольший процент повышений наблюдается в регионах `region_4` (14%) и `region_1` (12%).\n",
    "\n",
    "5. **Образование**:\n",
    "   - Сотрудники с образованием уровня `Магистр и выше` имеют наибольший процент повышения (10%) по сравнению с `Бакалавром` (8%) и `Ниже среднего` (8%).\n",
    "\n",
    "6. **Пол**:\n",
    "   - Мужчины и женщины имеют схожие показатели повышения (8% и 9% соответственно).\n",
    "\n",
    "7. **Рейтинг за предыдущий год**:\n",
    "   - Высокие рейтинги за предыдущий год (4 и 5) ассоциируются с более высоким процентом повышений (7% и 16% соответственно) по сравнению с низкими рейтингами (1% для рейтинга 2 и 4% для рейтинга 3).\n",
    "\n",
    "8. **Количество тренировок**:\n",
    "   - Сотрудники, прошедшие больше тренировок (2-3), имеют более высокий процент повышения (8% и 7% соответственно) по сравнению с теми, у кого была только одна тренировка (8%).\n",
    "\n",
    "9. **Канал набора**:\n",
    "   - Канал `sourcing` имеет более высокий процент повышений (9%) по сравнению с `other` (8%) и `referred` (12%).\n"
   ],
   "metadata": {
    "collapsed": false
   },
   "id": "35caf92523436f5b"
  },
  {
   "cell_type": "code",
   "outputs": [],
   "source": [],
   "metadata": {
    "collapsed": false
   },
   "id": "9c6b61d007d9199e"
  }
 ],
 "metadata": {
  "kernelspec": {
   "display_name": "Python 3",
   "language": "python",
   "name": "python3"
  },
  "language_info": {
   "codemirror_mode": {
    "name": "ipython",
    "version": 2
   },
   "file_extension": ".py",
   "mimetype": "text/x-python",
   "name": "python",
   "nbconvert_exporter": "python",
   "pygments_lexer": "ipython2",
   "version": "2.7.6"
  }
 },
 "nbformat": 4,
 "nbformat_minor": 5
}
